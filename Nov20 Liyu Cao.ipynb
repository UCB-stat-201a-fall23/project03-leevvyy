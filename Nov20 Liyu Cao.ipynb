{
 "cells": [
  {
   "cell_type": "markdown",
   "id": "69295a4f-62cc-44db-8323-6ac09e3ea80e",
   "metadata": {},
   "source": [
    "## Liyu Cao STAT 201A MC_homework"
   ]
  },
  {
   "cell_type": "code",
   "execution_count": 1,
   "id": "e5865f4d-a1d9-4c76-a2f8-0c6a9ec8e5af",
   "metadata": {
    "ExecuteTime": {
     "end_time": "2023-11-27T20:41:48.668889Z",
     "start_time": "2023-11-27T20:41:47.969606Z"
    }
   },
   "outputs": [],
   "source": [
    "import numpy as np\n",
    "import matplotlib.pyplot as plt"
   ]
  },
  {
   "cell_type": "markdown",
   "id": "949f0d66-e4c4-428c-b900-ea2e7d30d958",
   "metadata": {
    "tags": []
   },
   "source": [
    "### Q1"
   ]
  },
  {
   "cell_type": "markdown",
   "id": "8a42eee7-da13-4f6c-a954-e613c8ac975e",
   "metadata": {},
   "source": [
    "##### a）"
   ]
  },
  {
   "cell_type": "code",
   "execution_count": 2,
   "id": "d890c02d-c261-43c4-a396-b6ed8738b970",
   "metadata": {
    "ExecuteTime": {
     "end_time": "2023-11-27T20:41:48.684892Z",
     "start_time": "2023-11-27T20:41:48.671902Z"
    }
   },
   "outputs": [
    {
     "data": {
      "text/plain": [
       "array([[0.2, 0.7, 0.1],\n",
       "       [0.2, 0.5, 0.3],\n",
       "       [0.2, 0.4, 0.4]])"
      ]
     },
     "execution_count": 2,
     "metadata": {},
     "output_type": "execute_result"
    }
   ],
   "source": [
    "P = np.array([[0.2,0.7,0.1],[0.2,0.5,0.3],[0.2,0.4,0.4]])\n",
    "P"
   ]
  },
  {
   "cell_type": "markdown",
   "id": "6175eb8c-6d1b-4823-a4d2-c28c139b9c99",
   "metadata": {},
   "source": [
    "##### b)"
   ]
  },
  {
   "cell_type": "code",
   "execution_count": 3,
   "id": "ac2d5f64-d19d-49da-b57e-89e7c634e580",
   "metadata": {
    "ExecuteTime": {
     "end_time": "2023-11-27T20:41:48.700879Z",
     "start_time": "2023-11-27T20:41:48.688882Z"
    }
   },
   "outputs": [],
   "source": [
    "X0 = np.array([1,0,0]).reshape(-1,1)\n",
    "pi_1 = (X0.T @ P).flatten()\n",
    "X1 = np.random.choice([1,2,3],p=pi_1)"
   ]
  },
  {
   "cell_type": "code",
   "execution_count": 4,
   "id": "5c45c287-eece-4c83-a52f-b63b834ef22a",
   "metadata": {
    "ExecuteTime": {
     "end_time": "2023-11-27T20:41:48.715835Z",
     "start_time": "2023-11-27T20:41:48.702810Z"
    }
   },
   "outputs": [
    {
     "data": {
      "text/plain": [
       "1"
      ]
     },
     "execution_count": 4,
     "metadata": {},
     "output_type": "execute_result"
    }
   ],
   "source": [
    "X1"
   ]
  },
  {
   "cell_type": "markdown",
   "id": "cb8733a1-142d-411a-8b10-032bc4a578d1",
   "metadata": {},
   "source": [
    "### Q2"
   ]
  },
  {
   "cell_type": "markdown",
   "id": "a9bbacd2-862e-4b66-a4d4-c8a36894ccf8",
   "metadata": {},
   "source": [
    "##### a) \n",
    "How to solve this numerically"
   ]
  },
  {
   "cell_type": "markdown",
   "id": "17ce8b06",
   "metadata": {},
   "source": [
    "![3.png](3.png)"
   ]
  },
  {
   "cell_type": "markdown",
   "id": "33df6985-e215-43a9-852b-4c58060f1e98",
   "metadata": {},
   "source": [
    "We should use least square method to solve this problem, with our constraints added to it.???    \n",
    "SHOULD WE USE LEAST SQUARE???"
   ]
  },
  {
   "cell_type": "code",
   "execution_count": 5,
   "id": "69ad4de9-d80a-4720-adbf-eb5a4f72ad7c",
   "metadata": {
    "ExecuteTime": {
     "end_time": "2023-11-27T20:41:48.746860Z",
     "start_time": "2023-11-27T20:41:48.717806Z"
    }
   },
   "outputs": [
    {
     "name": "stdout",
     "output_type": "stream",
     "text": [
      "Steady-state distribution (PI_inf): [0.2        0.51111111 0.28888889]\n"
     ]
    }
   ],
   "source": [
    "# Calculate transpose of P\n",
    "P_transpose = P.T\n",
    "\n",
    "# Create the coefficient matrix for the equation (P.T - I)\n",
    "coeff_matrix = P_transpose - np.eye(P.shape[0])  # np.eye creates an identity matrix of appropriate size\n",
    "\n",
    "# Add an additional equation for the sum of elements to be 1\n",
    "additional_eq = np.ones(P.shape[0])\n",
    "coeff_matrix = np.vstack((coeff_matrix, additional_eq))\n",
    "\n",
    "# Create a new vector with zeros and 1 at the end for the sum equation\n",
    "b = np.zeros(P.shape[0])\n",
    "b = np.append(b, 1)\n",
    "\n",
    "# Solve the augmented equation (P.T - I) * PI_inf = [0, 0, 0, ..., 0, 1] for PI_inf using numpy.linalg.solve\n",
    "# PI_inf = np.linalg.solve(coeff_matrix, b) # not square matrix'\n",
    "\n",
    "x, residuals, _, _ = np.linalg.lstsq(coeff_matrix, b, rcond=None)\n",
    "\n",
    "print(\"Steady-state distribution (PI_inf):\", x)"
   ]
  },
  {
   "cell_type": "markdown",
   "id": "13103c27-712e-45e9-b9bf-32364a4bee6a",
   "metadata": {},
   "source": [
    "The anwser is just the same as my theoretical solutions"
   ]
  },
  {
   "cell_type": "markdown",
   "id": "b6d60363-4567-43c9-8666-9867fc4abb02",
   "metadata": {},
   "source": [
    "##### b)"
   ]
  },
  {
   "cell_type": "code",
   "execution_count": 6,
   "id": "b16305d7-84e0-4b72-add7-3a20eb67aeab",
   "metadata": {
    "ExecuteTime": {
     "end_time": "2023-11-27T20:41:48.762069Z",
     "start_time": "2023-11-27T20:41:48.749279Z"
    }
   },
   "outputs": [],
   "source": [
    "X0 = np.array([1,0,0]).reshape(-1,1)\n",
    "def generate_pi(X0, P, t):\n",
    "    X = X0\n",
    "    for i in range(1,t+1):\n",
    "        Xi = (X.T @ P).T\n",
    "        X = Xi\n",
    "    return X"
   ]
  },
  {
   "cell_type": "code",
   "execution_count": 7,
   "id": "07c2bb7d-76d2-4717-b9bb-5dc9dfddfb63",
   "metadata": {
    "ExecuteTime": {
     "end_time": "2023-11-27T20:41:48.778083Z",
     "start_time": "2023-11-27T20:41:48.764023Z"
    }
   },
   "outputs": [
    {
     "data": {
      "text/plain": [
       "array([[0.2       ],\n",
       "       [0.51111111],\n",
       "       [0.28888889]])"
      ]
     },
     "execution_count": 7,
     "metadata": {},
     "output_type": "execute_result"
    }
   ],
   "source": [
    "generate_pi(X0,P,10)  #After 10 iterations, they are almost the same"
   ]
  },
  {
   "cell_type": "markdown",
   "id": "2c12a5da-c035-4b1c-b515-037e707ef3ac",
   "metadata": {},
   "source": [
    "Plot"
   ]
  },
  {
   "cell_type": "code",
   "execution_count": 8,
   "id": "68b043d3-7f53-4a2b-9287-2e7294afd896",
   "metadata": {
    "ExecuteTime": {
     "end_time": "2023-11-27T20:41:48.794103Z",
     "start_time": "2023-11-27T20:41:48.780088Z"
    }
   },
   "outputs": [],
   "source": [
    "def distribution_dist(Xi,X0):\n",
    "    def norm2_square(x):\n",
    "        return np.sum(x**2)\n",
    "    return norm2_square(Xi-X0)"
   ]
  },
  {
   "cell_type": "code",
   "execution_count": 9,
   "id": "1a0ddebd-5af4-4d76-9708-124aebc9d20f",
   "metadata": {
    "ExecuteTime": {
     "end_time": "2023-11-27T20:41:48.810107Z",
     "start_time": "2023-11-27T20:41:48.796069Z"
    }
   },
   "outputs": [],
   "source": [
    "Pi_inf = x.reshape(-1,1)"
   ]
  },
  {
   "cell_type": "code",
   "execution_count": 10,
   "id": "947bf227-e2cf-48e6-a55b-d32a240c3bdd",
   "metadata": {
    "ExecuteTime": {
     "end_time": "2023-11-27T20:41:48.826079Z",
     "start_time": "2023-11-27T20:41:48.812066Z"
    }
   },
   "outputs": [
    {
     "data": {
      "text/plain": [
       "array([[0.2       ],\n",
       "       [0.51111111],\n",
       "       [0.28888889]])"
      ]
     },
     "execution_count": 10,
     "metadata": {},
     "output_type": "execute_result"
    }
   ],
   "source": [
    "Pi_inf"
   ]
  },
  {
   "cell_type": "code",
   "execution_count": 11,
   "id": "7903c68a-6278-46fe-8df6-7bbc42883e6e",
   "metadata": {
    "ExecuteTime": {
     "end_time": "2023-11-27T20:41:48.841089Z",
     "start_time": "2023-11-27T20:41:48.828072Z"
    }
   },
   "outputs": [],
   "source": [
    "i_list = range(1,10+1)\n",
    "X0_1 = np.array([1,0,0]).reshape(-1,1)\n",
    "X0_2 = np.array([0,1,0]).reshape(-1,1)\n",
    "X0_3 = np.array([0,0,1]).reshape(-1,1)"
   ]
  },
  {
   "cell_type": "code",
   "execution_count": 12,
   "id": "04236bb0-8139-4329-82b7-16ab2a9ea738",
   "metadata": {
    "ExecuteTime": {
     "end_time": "2023-11-27T20:41:48.856153Z",
     "start_time": "2023-11-27T20:41:48.843111Z"
    }
   },
   "outputs": [],
   "source": [
    "Xlist_1 = [generate_pi(X0_1,P,t) for t in i_list]\n",
    "dist_1 = [distribution_dist(xi,Pi_inf) for xi in Xlist_1]\n",
    "Xlist_2 = [generate_pi(X0_2,P,t) for t in i_list]\n",
    "dist_2 = [distribution_dist(xi,Pi_inf) for xi in Xlist_2]\n",
    "Xlist_3 = [generate_pi(X0_3,P,t) for t in i_list]\n",
    "dist_3 = [distribution_dist(xi,Pi_inf) for xi in Xlist_3]"
   ]
  },
  {
   "cell_type": "code",
   "execution_count": 13,
   "id": "b2d7e263-18ac-49b5-bf51-3350bdb5aa2b",
   "metadata": {
    "ExecuteTime": {
     "end_time": "2023-11-27T20:41:49.412540Z",
     "start_time": "2023-11-27T20:41:48.858166Z"
    }
   },
   "outputs": [
    {
     "data": {
      "image/png": "[encoded data removed]",
      "text/plain": [
       "<Figure size 432x288 with 1 Axes>"
      ]
     },
     "metadata": {
      "needs_background": "light"
     },
     "output_type": "display_data"
    }
   ],
   "source": [
    "plt.plot(i_list,dist_1,label='X0=[1,0,0]')\n",
    "plt.plot(i_list,dist_2,label='X0=[0,1,0]')\n",
    "plt.plot(i_list,dist_3,label='X0=[0,0,1]')\n",
    "plt.yscale('log')\n",
    "plt.legend()\n",
    "plt.show()"
   ]
  },
  {
   "cell_type": "markdown",
   "id": "08cb059f-b581-47a8-9696-93c75958ace9",
   "metadata": {},
   "source": [
    "### Q3"
   ]
  },
  {
   "cell_type": "markdown",
   "id": "5efa98a9-e1df-4f12-9ff2-ed9d5412841d",
   "metadata": {},
   "source": [
    "##### a)"
   ]
  },
  {
   "cell_type": "code",
   "execution_count": 14,
   "id": "488881af-34b3-4013-901c-80160cd74f3a",
   "metadata": {
    "ExecuteTime": {
     "end_time": "2023-11-27T20:41:49.428404Z",
     "start_time": "2023-11-27T20:41:49.414391Z"
    }
   },
   "outputs": [],
   "source": [
    "P = np.array([[0.2,0.7,0.1],[0.2,0.5,0.3],[0.2,0.4,0.4]])\n",
    "def next_Xi(Xi, P):\n",
    "    pi = P[Xi-1]\n",
    "    return np.random.choice([1,2,3],p=pi)"
   ]
  },
  {
   "cell_type": "code",
   "execution_count": 15,
   "id": "5143b84d-9394-493c-ac8b-ca0820ae6e03",
   "metadata": {
    "ExecuteTime": {
     "end_time": "2023-11-27T20:41:49.443563Z",
     "start_time": "2023-11-27T20:41:49.430389Z"
    }
   },
   "outputs": [],
   "source": [
    "def simulate_arrivaltime(X0,P):\n",
    "    X = X0\n",
    "    t = 0\n",
    "    while X != 3:\n",
    "        t += 1\n",
    "        X_t_1 = next_Xi(X,P)\n",
    "        X = X_t_1\n",
    "    return t"
   ]
  },
  {
   "cell_type": "code",
   "execution_count": 16,
   "id": "2f714bb1-d8e5-492e-a6ff-fa802b26a8d6",
   "metadata": {
    "ExecuteTime": {
     "end_time": "2023-11-27T20:41:49.458930Z",
     "start_time": "2023-11-27T20:41:49.444904Z"
    }
   },
   "outputs": [
    {
     "data": {
      "text/plain": [
       "3"
      ]
     },
     "execution_count": 16,
     "metadata": {},
     "output_type": "execute_result"
    }
   ],
   "source": [
    "simulate_arrivaltime(1,P)"
   ]
  },
  {
   "cell_type": "code",
   "execution_count": 17,
   "id": "175f5785-9b6b-449c-8725-ca25e2dba30e",
   "metadata": {
    "ExecuteTime": {
     "end_time": "2023-11-27T20:41:49.695310Z",
     "start_time": "2023-11-27T20:41:49.461539Z"
    }
   },
   "outputs": [],
   "source": [
    "at_1 = []\n",
    "at_2 = []\n",
    "for i in range(1000):\n",
    "    at_1.append(simulate_arrivaltime(1,P))\n",
    "    at_2.append(simulate_arrivaltime(2,P))"
   ]
  },
  {
   "cell_type": "code",
   "execution_count": 18,
   "id": "78b35401-86ec-4b29-8d94-f78e803168c3",
   "metadata": {
    "ExecuteTime": {
     "end_time": "2023-11-27T20:41:49.837415Z",
     "start_time": "2023-11-27T20:41:49.697538Z"
    }
   },
   "outputs": [
    {
     "data": {
      "text/plain": [
       "(array([344., 175., 116.,  91.,  68.,  45.,  72.,  23.,  13.,   9.,  12.,\n",
       "          3.,   9.,   7.,   4.,   2.,   1.,   2.,   1.,   3.]),\n",
       " array([ 1.  ,  2.15,  3.3 ,  4.45,  5.6 ,  6.75,  7.9 ,  9.05, 10.2 ,\n",
       "        11.35, 12.5 , 13.65, 14.8 , 15.95, 17.1 , 18.25, 19.4 , 20.55,\n",
       "        21.7 , 22.85, 24.  ]),\n",
       " <BarContainer object of 20 artists>)"
      ]
     },
     "execution_count": 18,
     "metadata": {},
     "output_type": "execute_result"
    },
    {
     "data": {
      "image/png": "[encoded data removed]",
      "text/plain": [
       "<Figure size 432x288 with 1 Axes>"
      ]
     },
     "metadata": {
      "needs_background": "light"
     },
     "output_type": "display_data"
    }
   ],
   "source": [
    "plt.hist(at_1,bins=20)"
   ]
  },
  {
   "cell_type": "code",
   "execution_count": 19,
   "id": "ba0d693d-a84a-4b94-91a9-77496251ad99",
   "metadata": {
    "ExecuteTime": {
     "end_time": "2023-11-27T20:41:49.994650Z",
     "start_time": "2023-11-27T20:41:49.839411Z"
    }
   },
   "outputs": [
    {
     "data": {
      "text/plain": [
       "(array([476., 136., 156.,  57.,  47.,  49.,  15.,  30.,   8.,   6.,  12.,\n",
       "          1.,   4.,   0.,   0.,   0.,   1.,   1.,   0.,   1.]),\n",
       " array([ 1. ,  2.4,  3.8,  5.2,  6.6,  8. ,  9.4, 10.8, 12.2, 13.6, 15. ,\n",
       "        16.4, 17.8, 19.2, 20.6, 22. , 23.4, 24.8, 26.2, 27.6, 29. ]),\n",
       " <BarContainer object of 20 artists>)"
      ]
     },
     "execution_count": 19,
     "metadata": {},
     "output_type": "execute_result"
    },
    {
     "data": {
      "image/png": "[encoded data removed]",
      "text/plain": [
       "<Figure size 432x288 with 1 Axes>"
      ]
     },
     "metadata": {
      "needs_background": "light"
     },
     "output_type": "display_data"
    }
   ],
   "source": [
    "plt.hist(at_2,bins=20)"
   ]
  },
  {
   "cell_type": "code",
   "execution_count": 20,
   "id": "00b79151-7a7f-4c11-8b6f-a1940da6744c",
   "metadata": {
    "ExecuteTime": {
     "end_time": "2023-11-27T20:41:50.010631Z",
     "start_time": "2023-11-27T20:41:49.995628Z"
    }
   },
   "outputs": [
    {
     "name": "stdout",
     "output_type": "stream",
     "text": [
      "Average arriving time of X0=1 is: 4.555\n",
      "Average arriving time of X0=2 is: 3.851\n"
     ]
    }
   ],
   "source": [
    "print(\"Average arriving time of X0=1 is:\",np.mean(at_1))\n",
    "print(\"Average arriving time of X0=2 is:\",np.mean(at_2))"
   ]
  },
  {
   "cell_type": "markdown",
   "id": "f28be3cd-5ff0-4766-8653-de2296665d9b",
   "metadata": {},
   "source": [
    "##### b)\n",
    "Theoretically, we get the $\\mu_1$ and $\\mu_2$ below"
   ]
  },
  {
   "cell_type": "markdown",
   "id": "61a857d0",
   "metadata": {},
   "source": [
    "![4.png](4.png)"
   ]
  },
  {
   "cell_type": "code",
   "execution_count": 21,
   "id": "758677da-d62f-4473-b614-e0b4ac0e7087",
   "metadata": {
    "ExecuteTime": {
     "end_time": "2023-11-27T20:41:50.026187Z",
     "start_time": "2023-11-27T20:41:50.013644Z"
    }
   },
   "outputs": [
    {
     "name": "stdout",
     "output_type": "stream",
     "text": [
      "Theoretically, average arriving time of X0=1 is: 4.615384615384615\n",
      "Theoretically, average arriving time of X0=2 is: 3.8461538461538463\n",
      "Average arriving time of X0=1 is: 4.555\n",
      "Average arriving time of X0=2 is: 3.851\n"
     ]
    }
   ],
   "source": [
    "mu1 = 60/13\n",
    "mu2 = 50/13\n",
    "print(\"Theoretically, average arriving time of X0=1 is:\",mu1)\n",
    "print(\"Theoretically, average arriving time of X0=2 is:\",mu2)\n",
    "print(\"Average arriving time of X0=1 is:\",np.mean(at_1))\n",
    "print(\"Average arriving time of X0=2 is:\",np.mean(at_2))"
   ]
  },
  {
   "cell_type": "markdown",
   "id": "e04702a5-77a9-43e9-8f05-db3fc2b67a66",
   "metadata": {},
   "source": [
    "As we use larger simulation number, these two numbers get closer"
   ]
  },
  {
   "cell_type": "code",
   "execution_count": 22,
   "id": "bd4e9f11-e13c-42b4-b692-22b3cd079c8e",
   "metadata": {
    "ExecuteTime": {
     "end_time": "2023-11-27T20:41:51.107027Z",
     "start_time": "2023-11-27T20:41:50.029235Z"
    }
   },
   "outputs": [
    {
     "name": "stdout",
     "output_type": "stream",
     "text": [
      "Theoretically, average arriving time of X0=1 is: 4.615384615384615\n",
      "Theoretically, average arriving time of X0=2 is: 3.8461538461538463\n",
      "Average arriving time of X0=1 is: 4.6798\n",
      "Average arriving time of X0=2 is: 3.7526\n"
     ]
    }
   ],
   "source": [
    "at_1 = []\n",
    "at_2 = []\n",
    "for i in range(5000):\n",
    "    at_1.append(simulate_arrivaltime(1,P))\n",
    "    at_2.append(simulate_arrivaltime(2,P))\n",
    "print(\"Theoretically, average arriving time of X0=1 is:\",mu1)\n",
    "print(\"Theoretically, average arriving time of X0=2 is:\",mu2)\n",
    "print(\"Average arriving time of X0=1 is:\",np.mean(at_1))\n",
    "print(\"Average arriving time of X0=2 is:\",np.mean(at_2))"
   ]
  },
  {
   "cell_type": "code",
   "execution_count": null,
   "id": "ba781610-6017-4a9d-9f4f-2dc21a4585cf",
   "metadata": {},
   "outputs": [],
   "source": []
  }
 ],
 "metadata": {
  "kernelspec": {
   "display_name": "Python 3 (ipykernel)",
   "language": "python",
   "name": "python3"
  },
  "language_info": {
   "codemirror_mode": {
    "name": "ipython",
    "version": 3
   },
   "file_extension": ".py",
   "mimetype": "text/x-python",
   "name": "python",
   "nbconvert_exporter": "python",
   "pygments_lexer": "ipython3",
   "version": "3.9.7"
  },
  "varInspector": {
   "cols": {
    "lenName": 16,
    "lenType": 16,
    "lenVar": 40
   },
   "kernels_config": {
    "python": {
     "delete_cmd_postfix": "",
     "delete_cmd_prefix": "del ",
     "library": "var_list.py",
     "varRefreshCmd": "print(var_dic_list())"
    },
    "r": {
     "delete_cmd_postfix": ") ",
     "delete_cmd_prefix": "rm(",
     "library": "var_list.r",
     "varRefreshCmd": "cat(var_dic_list()) "
    }
   },
   "types_to_exclude": [
    "module",
    "function",
    "builtin_function_or_method",
    "instance",
    "_Feature"
   ],
   "window_display": false
  }
 },
 "nbformat": 4,
 "nbformat_minor": 5
}
